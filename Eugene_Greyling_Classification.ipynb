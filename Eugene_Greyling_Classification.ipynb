{
 "cells": [
  {
   "cell_type": "markdown",
   "metadata": {
    "_cell_guid": "fc2200dc-4f2f-4e11-8ed1-1be6dc62ef46",
    "_uuid": "b882b37d-9c1f-41a0-a37f-2482bd1e1bea",
    "papermill": {
     "duration": 0.018254,
     "end_time": "2020-10-19T13:15:53.358930",
     "exception": false,
     "start_time": "2020-10-19T13:15:53.340676",
     "status": "completed"
    },
    "tags": []
   },
   "source": [
    "# Import the necessary libraries"
   ]
  },
  {
   "cell_type": "code",
   "execution_count": 1,
   "metadata": {
    "_cell_guid": "1a40bf05-e7df-488d-8cbf-7236be38c3aa",
    "_uuid": "ffb3b76f-fe6a-4e61-a308-e879ce421ea0",
    "execution": {
     "iopub.execute_input": "2020-10-19T13:15:53.409288Z",
     "iopub.status.busy": "2020-10-19T13:15:53.404157Z",
     "iopub.status.idle": "2020-10-19T13:15:55.748202Z",
     "shell.execute_reply": "2020-10-19T13:15:55.747312Z"
    },
    "papermill": {
     "duration": 2.372554,
     "end_time": "2020-10-19T13:15:55.748359",
     "exception": false,
     "start_time": "2020-10-19T13:15:53.375805",
     "status": "completed"
    },
    "tags": []
   },
   "outputs": [],
   "source": [
    "import pandas as pd\n",
    "import numpy as np\n",
    "import nltk\n",
    "import string\n",
    "import re\n",
    "from sklearn.feature_extraction.text import TfidfVectorizer\n",
    "from sklearn.linear_model import LogisticRegression\n",
    "from sklearn.naive_bayes import MultinomialNB\n",
    "from sklearn.ensemble import RandomForestClassifier, AdaBoostClassifier\n",
    "from sklearn.svm import LinearSVC\n",
    "from sklearn.model_selection import train_test_split\n",
    "from sklearn.naive_bayes import MultinomialNB\n",
    "from nltk.stem import WordNetLemmatizer\n",
    "from nltk.corpus import stopwords\n",
    "\n",
    "from sklearn.metrics import f1_score\n",
    "\n",
    "import seaborn as sns\n",
    "import matplotlib.pyplot as plt\n",
    "%matplotlib inline"
   ]
  },
  {
   "cell_type": "markdown",
   "metadata": {
    "_cell_guid": "ce5b2e10-3978-443d-a1ec-e527966a1476",
    "_uuid": "75e281c2-4554-43f5-9c48-f5e00b007a27",
    "papermill": {
     "duration": 0.01594,
     "end_time": "2020-10-19T13:15:55.781216",
     "exception": false,
     "start_time": "2020-10-19T13:15:55.765276",
     "status": "completed"
    },
    "tags": []
   },
   "source": [
    "Loading The Data From Kaggle"
   ]
  },
  {
   "cell_type": "code",
   "execution_count": 2,
   "metadata": {
    "_cell_guid": "109f55ce-f02f-4d3b-9ed7-0f809257329f",
    "_uuid": "948f868a-e180-4815-9f41-0b41a2845c2d",
    "execution": {
     "iopub.execute_input": "2020-10-19T13:15:55.831130Z",
     "iopub.status.busy": "2020-10-19T13:15:55.830298Z",
     "iopub.status.idle": "2020-10-19T13:15:55.964312Z",
     "shell.execute_reply": "2020-10-19T13:15:55.963654Z"
    },
    "papermill": {
     "duration": 0.166993,
     "end_time": "2020-10-19T13:15:55.964451",
     "exception": false,
     "start_time": "2020-10-19T13:15:55.797458",
     "status": "completed"
    },
    "tags": []
   },
   "outputs": [],
   "source": [
    "train = pd.read_csv('../input/climate-change-analysis-data/train.csv')\n",
    "test = pd.read_csv('../input/climate-change-analysis-data/test.csv')"
   ]
  },
  {
   "cell_type": "code",
   "execution_count": 3,
   "metadata": {
    "execution": {
     "iopub.execute_input": "2020-10-19T13:15:56.011389Z",
     "iopub.status.busy": "2020-10-19T13:15:56.010490Z",
     "iopub.status.idle": "2020-10-19T13:15:56.021278Z",
     "shell.execute_reply": "2020-10-19T13:15:56.021900Z"
    },
    "papermill": {
     "duration": 0.040782,
     "end_time": "2020-10-19T13:15:56.022079",
     "exception": false,
     "start_time": "2020-10-19T13:15:55.981297",
     "status": "completed"
    },
    "tags": []
   },
   "outputs": [
    {
     "data": {
      "text/plain": [
       " 1    8530\n",
       " 2    3640\n",
       " 0    2353\n",
       "-1    1296\n",
       "Name: sentiment, dtype: int64"
      ]
     },
     "execution_count": 3,
     "metadata": {},
     "output_type": "execute_result"
    }
   ],
   "source": [
    "train.sentiment.value_counts()"
   ]
  },
  {
   "cell_type": "markdown",
   "metadata": {
    "papermill": {
     "duration": 0.022045,
     "end_time": "2020-10-19T13:15:56.062154",
     "exception": false,
     "start_time": "2020-10-19T13:15:56.040109",
     "status": "completed"
    },
    "tags": []
   },
   "source": [
    "*Splitting out the X variable from the target*"
   ]
  },
  {
   "cell_type": "code",
   "execution_count": 4,
   "metadata": {
    "execution": {
     "iopub.execute_input": "2020-10-19T13:15:56.114214Z",
     "iopub.status.busy": "2020-10-19T13:15:56.113008Z",
     "iopub.status.idle": "2020-10-19T13:15:56.116623Z",
     "shell.execute_reply": "2020-10-19T13:15:56.115950Z"
    },
    "papermill": {
     "duration": 0.034707,
     "end_time": "2020-10-19T13:15:56.116770",
     "exception": false,
     "start_time": "2020-10-19T13:15:56.082063",
     "status": "completed"
    },
    "tags": []
   },
   "outputs": [],
   "source": [
    "y = train['sentiment']\n",
    "X = train['message']"
   ]
  },
  {
   "cell_type": "markdown",
   "metadata": {
    "papermill": {
     "duration": 0.021908,
     "end_time": "2020-10-19T13:15:56.157268",
     "exception": false,
     "start_time": "2020-10-19T13:15:56.135360",
     "status": "completed"
    },
    "tags": []
   },
   "source": [
    "Turning text into something the model can read"
   ]
  },
  {
   "cell_type": "code",
   "execution_count": 5,
   "metadata": {
    "execution": {
     "iopub.execute_input": "2020-10-19T13:15:56.226385Z",
     "iopub.status.busy": "2020-10-19T13:15:56.213607Z",
     "iopub.status.idle": "2020-10-19T13:15:57.414161Z",
     "shell.execute_reply": "2020-10-19T13:15:57.412163Z"
    },
    "papermill": {
     "duration": 1.238033,
     "end_time": "2020-10-19T13:15:57.414398",
     "exception": false,
     "start_time": "2020-10-19T13:15:56.176365",
     "status": "completed"
    },
    "tags": []
   },
   "outputs": [],
   "source": [
    "vectorizer = TfidfVectorizer(ngram_range=(1,2), min_df=2, stop_words='english')\n",
    "X_vectorized = vectorizer.fit_transform(X)"
   ]
  },
  {
   "cell_type": "markdown",
   "metadata": {
    "papermill": {
     "duration": 0.019241,
     "end_time": "2020-10-19T13:15:57.457933",
     "exception": false,
     "start_time": "2020-10-19T13:15:57.438692",
     "status": "completed"
    },
    "tags": []
   },
   "source": [
    "Splitting the training data into a training and validation set"
   ]
  },
  {
   "cell_type": "code",
   "execution_count": 6,
   "metadata": {
    "execution": {
     "iopub.execute_input": "2020-10-19T13:15:57.508953Z",
     "iopub.status.busy": "2020-10-19T13:15:57.508138Z",
     "iopub.status.idle": "2020-10-19T13:15:57.533027Z",
     "shell.execute_reply": "2020-10-19T13:15:57.532120Z"
    },
    "papermill": {
     "duration": 0.055545,
     "end_time": "2020-10-19T13:15:57.533201",
     "exception": false,
     "start_time": "2020-10-19T13:15:57.477656",
     "status": "completed"
    },
    "tags": []
   },
   "outputs": [],
   "source": [
    "X_train,X_val,y_train,y_val = train_test_split(X_vectorized,y,test_size=.3,shuffle=True, stratify=y, random_state=11)"
   ]
  },
  {
   "cell_type": "markdown",
   "metadata": {
    "papermill": {
     "duration": 0.017821,
     "end_time": "2020-10-19T13:15:57.572474",
     "exception": false,
     "start_time": "2020-10-19T13:15:57.554653",
     "status": "completed"
    },
    "tags": []
   },
   "source": [
    "Training the model and evaluating using the validation set"
   ]
  },
  {
   "cell_type": "code",
   "execution_count": 7,
   "metadata": {
    "execution": {
     "iopub.execute_input": "2020-10-19T13:15:57.616353Z",
     "iopub.status.busy": "2020-10-19T13:15:57.615184Z",
     "iopub.status.idle": "2020-10-19T13:16:26.062722Z",
     "shell.execute_reply": "2020-10-19T13:16:26.063385Z"
    },
    "papermill": {
     "duration": 28.473094,
     "end_time": "2020-10-19T13:16:26.063608",
     "exception": false,
     "start_time": "2020-10-19T13:15:57.590514",
     "status": "completed"
    },
    "tags": []
   },
   "outputs": [],
   "source": [
    "rfc = RandomForestClassifier()\n",
    "rfc.fit(X_train, y_train)\n",
    "rfc_pred = rfc.predict(X_val)"
   ]
  },
  {
   "cell_type": "markdown",
   "metadata": {
    "papermill": {
     "duration": 0.017845,
     "end_time": "2020-10-19T13:16:26.099811",
     "exception": false,
     "start_time": "2020-10-19T13:16:26.081966",
     "status": "completed"
    },
    "tags": []
   },
   "source": [
    "Checking the performance of our model on the validation set"
   ]
  },
  {
   "cell_type": "code",
   "execution_count": 8,
   "metadata": {
    "execution": {
     "iopub.execute_input": "2020-10-19T13:16:26.143670Z",
     "iopub.status.busy": "2020-10-19T13:16:26.142904Z",
     "iopub.status.idle": "2020-10-19T13:16:26.152760Z",
     "shell.execute_reply": "2020-10-19T13:16:26.152131Z"
    },
    "papermill": {
     "duration": 0.034657,
     "end_time": "2020-10-19T13:16:26.152944",
     "exception": false,
     "start_time": "2020-10-19T13:16:26.118287",
     "status": "completed"
    },
    "tags": []
   },
   "outputs": [
    {
     "data": {
      "text/plain": [
       "0.5550467270213839"
      ]
     },
     "execution_count": 8,
     "metadata": {},
     "output_type": "execute_result"
    }
   ],
   "source": [
    "f1_score(y_val, rfc_pred, average=\"macro\")"
   ]
  },
  {
   "cell_type": "markdown",
   "metadata": {
    "papermill": {
     "duration": 0.018697,
     "end_time": "2020-10-19T13:16:26.190646",
     "exception": false,
     "start_time": "2020-10-19T13:16:26.171949",
     "status": "completed"
    },
    "tags": []
   },
   "source": [
    "Getting our test set ready"
   ]
  },
  {
   "cell_type": "code",
   "execution_count": 9,
   "metadata": {
    "execution": {
     "iopub.execute_input": "2020-10-19T13:16:26.256163Z",
     "iopub.status.busy": "2020-10-19T13:16:26.240213Z",
     "iopub.status.idle": "2020-10-19T13:16:26.775589Z",
     "shell.execute_reply": "2020-10-19T13:16:26.776290Z"
    },
    "papermill": {
     "duration": 0.56673,
     "end_time": "2020-10-19T13:16:26.776498",
     "exception": false,
     "start_time": "2020-10-19T13:16:26.209768",
     "status": "completed"
    },
    "tags": []
   },
   "outputs": [],
   "source": [
    "testx = test['message']\n",
    "test_vect = vectorizer.transform(testx)"
   ]
  },
  {
   "cell_type": "markdown",
   "metadata": {
    "papermill": {
     "duration": 0.018593,
     "end_time": "2020-10-19T13:16:26.814569",
     "exception": false,
     "start_time": "2020-10-19T13:16:26.795976",
     "status": "completed"
    },
    "tags": []
   },
   "source": [
    "Making predictions on the test set and adding a sentiment columnn to our original test df"
   ]
  },
  {
   "cell_type": "code",
   "execution_count": 10,
   "metadata": {
    "execution": {
     "iopub.execute_input": "2020-10-19T13:16:26.859376Z",
     "iopub.status.busy": "2020-10-19T13:16:26.858579Z",
     "iopub.status.idle": "2020-10-19T13:16:27.730700Z",
     "shell.execute_reply": "2020-10-19T13:16:27.731343Z"
    },
    "papermill": {
     "duration": 0.897894,
     "end_time": "2020-10-19T13:16:27.731545",
     "exception": false,
     "start_time": "2020-10-19T13:16:26.833651",
     "status": "completed"
    },
    "tags": []
   },
   "outputs": [],
   "source": [
    "y_pred = rfc.predict(test_vect)"
   ]
  },
  {
   "cell_type": "code",
   "execution_count": 11,
   "metadata": {
    "execution": {
     "iopub.execute_input": "2020-10-19T13:16:27.778691Z",
     "iopub.status.busy": "2020-10-19T13:16:27.777877Z",
     "iopub.status.idle": "2020-10-19T13:16:27.781555Z",
     "shell.execute_reply": "2020-10-19T13:16:27.780921Z"
    },
    "papermill": {
     "duration": 0.030579,
     "end_time": "2020-10-19T13:16:27.781709",
     "exception": false,
     "start_time": "2020-10-19T13:16:27.751130",
     "status": "completed"
    },
    "tags": []
   },
   "outputs": [],
   "source": [
    "test['sentiment'] = y_pred"
   ]
  },
  {
   "cell_type": "code",
   "execution_count": 12,
   "metadata": {
    "execution": {
     "iopub.execute_input": "2020-10-19T13:16:27.831217Z",
     "iopub.status.busy": "2020-10-19T13:16:27.830396Z",
     "iopub.status.idle": "2020-10-19T13:16:27.843605Z",
     "shell.execute_reply": "2020-10-19T13:16:27.842782Z"
    },
    "papermill": {
     "duration": 0.042707,
     "end_time": "2020-10-19T13:16:27.843796",
     "exception": false,
     "start_time": "2020-10-19T13:16:27.801089",
     "status": "completed"
    },
    "tags": []
   },
   "outputs": [
    {
     "data": {
      "text/html": [
       "<div>\n",
       "<style scoped>\n",
       "    .dataframe tbody tr th:only-of-type {\n",
       "        vertical-align: middle;\n",
       "    }\n",
       "\n",
       "    .dataframe tbody tr th {\n",
       "        vertical-align: top;\n",
       "    }\n",
       "\n",
       "    .dataframe thead th {\n",
       "        text-align: right;\n",
       "    }\n",
       "</style>\n",
       "<table border=\"1\" class=\"dataframe\">\n",
       "  <thead>\n",
       "    <tr style=\"text-align: right;\">\n",
       "      <th></th>\n",
       "      <th>message</th>\n",
       "      <th>tweetid</th>\n",
       "      <th>sentiment</th>\n",
       "    </tr>\n",
       "  </thead>\n",
       "  <tbody>\n",
       "    <tr>\n",
       "      <th>0</th>\n",
       "      <td>Europe will now be looking to China to make su...</td>\n",
       "      <td>169760</td>\n",
       "      <td>2</td>\n",
       "    </tr>\n",
       "    <tr>\n",
       "      <th>1</th>\n",
       "      <td>Combine this with the polling of staffers re c...</td>\n",
       "      <td>35326</td>\n",
       "      <td>1</td>\n",
       "    </tr>\n",
       "    <tr>\n",
       "      <th>2</th>\n",
       "      <td>The scary, unimpeachable evidence that climate...</td>\n",
       "      <td>224985</td>\n",
       "      <td>1</td>\n",
       "    </tr>\n",
       "    <tr>\n",
       "      <th>3</th>\n",
       "      <td>@Karoli @morgfair @OsborneInk @dailykos \\nPuti...</td>\n",
       "      <td>476263</td>\n",
       "      <td>1</td>\n",
       "    </tr>\n",
       "    <tr>\n",
       "      <th>4</th>\n",
       "      <td>RT @FakeWillMoore: 'Female orgasms cause globa...</td>\n",
       "      <td>872928</td>\n",
       "      <td>0</td>\n",
       "    </tr>\n",
       "  </tbody>\n",
       "</table>\n",
       "</div>"
      ],
      "text/plain": [
       "                                             message  tweetid  sentiment\n",
       "0  Europe will now be looking to China to make su...   169760          2\n",
       "1  Combine this with the polling of staffers re c...    35326          1\n",
       "2  The scary, unimpeachable evidence that climate...   224985          1\n",
       "3  @Karoli @morgfair @OsborneInk @dailykos \\nPuti...   476263          1\n",
       "4  RT @FakeWillMoore: 'Female orgasms cause globa...   872928          0"
      ]
     },
     "execution_count": 12,
     "metadata": {},
     "output_type": "execute_result"
    }
   ],
   "source": [
    "test.head()"
   ]
  },
  {
   "cell_type": "markdown",
   "metadata": {
    "papermill": {
     "duration": 0.019634,
     "end_time": "2020-10-19T13:16:27.885037",
     "exception": false,
     "start_time": "2020-10-19T13:16:27.865403",
     "status": "completed"
    },
    "tags": []
   },
   "source": [
    "Creating output CSV for Submission"
   ]
  },
  {
   "cell_type": "code",
   "execution_count": 13,
   "metadata": {
    "execution": {
     "iopub.execute_input": "2020-10-19T13:16:27.934444Z",
     "iopub.status.busy": "2020-10-19T13:16:27.933457Z",
     "iopub.status.idle": "2020-10-19T13:16:28.299353Z",
     "shell.execute_reply": "2020-10-19T13:16:28.298615Z"
    },
    "papermill": {
     "duration": 0.393677,
     "end_time": "2020-10-19T13:16:28.299488",
     "exception": false,
     "start_time": "2020-10-19T13:16:27.905811",
     "status": "completed"
    },
    "tags": []
   },
   "outputs": [],
   "source": [
    "test[['tweetid', 'sentiment']].to_csv('Eugene_Greyling_EDSA', index=False)"
   ]
  }
 ],
 "metadata": {
  "kernelspec": {
   "display_name": "Python 3",
   "language": "python",
   "name": "python3"
  },
  "language_info": {
   "codemirror_mode": {
    "name": "ipython",
    "version": 3
   },
   "file_extension": ".py",
   "mimetype": "text/x-python",
   "name": "python",
   "nbconvert_exporter": "python",
   "pygments_lexer": "ipython3",
   "version": "3.7.4"
  },
  "papermill": {
   "duration": 40.683469,
   "end_time": "2020-10-19T13:16:28.429519",
   "environment_variables": {},
   "exception": null,
   "input_path": "__notebook__.ipynb",
   "output_path": "__notebook__.ipynb",
   "parameters": {},
   "start_time": "2020-10-19T13:15:47.746050",
   "version": "2.1.0"
  }
 },
 "nbformat": 4,
 "nbformat_minor": 4
}
